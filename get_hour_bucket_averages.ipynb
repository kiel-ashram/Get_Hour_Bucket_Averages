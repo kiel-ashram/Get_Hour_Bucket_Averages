{
 "cells": [
  {
   "cell_type": "code",
   "execution_count": 6,
   "metadata": {
    "collapsed": true
   },
   "outputs": [],
   "source": [
    "def get_hour_bucket_averages(filename):\n",
    "    def get_data(filename):\n",
    "        data_list=[]\n",
    "        with open(filename, 'r') as f:\n",
    "            for line in f:\n",
    "                data_list.append(line.strip().split(','))\n",
    "        import datetime\n",
    "        format_str='%Y-%m-%d %H:%M'\n",
    "        data_list=[(datetime.datetime.strptime(x[0],format_str).hour,float(x[1])) for x in data_list]\n",
    "        return data_list\n",
    "    buckets={}\n",
    "    for item in get_data(filename):\n",
    "        if item[0] in buckets:\n",
    "            buckets[item[0]][0] += 1\n",
    "            buckets[item[0]][1] += item[1]\n",
    "        else:\n",
    "            buckets[item[0]] = [1,item[1]]\n",
    "    return [(key,value[1]/value[0]) for key,value in buckets.items()]"
   ]
  },
  {
   "cell_type": "code",
   "execution_count": 7,
   "metadata": {
    "collapsed": false
   },
   "outputs": [
    {
     "data": {
      "text/plain": [
       "[(0, 0.6570511564356848),\n",
       " (1, 2.961347732823531),\n",
       " (2, 2.3349654522713577),\n",
       " (3, 3.0839338759095036),\n",
       " (4, 4.663183017898088),\n",
       " (5, 2.5500549768035716),\n",
       " (6, 5.344349826462499),\n",
       " (7, 2.5844597678591548),\n",
       " (8, 6.072452066838383),\n",
       " (9, 8.564869090037881),\n",
       " (10, 12.671294691043798),\n",
       " (11, 5.9016535662582426),\n",
       " (12, 13.664025434767861),\n",
       " (13, 8.593492462153844),\n",
       " (14, 8.100135135464866),\n",
       " (15, 12.776634463150248),\n",
       " (16, 10.943701434343135),\n",
       " (17, 6.634365784815166),\n",
       " (18, 7.324956692725277),\n",
       " (19, 9.098796085836366),\n",
       " (20, 5.199433822696202),\n",
       " (21, 4.7431917128695655),\n",
       " (22, 8.449229103142208),\n",
       " (23, 5.184938602314278)]"
      ]
     },
     "execution_count": 7,
     "metadata": {},
     "output_type": "execute_result"
    }
   ],
   "source": [
    "get_hour_bucket_averages('sample_data.csv')"
   ]
  },
  {
   "cell_type": "code",
   "execution_count": null,
   "metadata": {
    "collapsed": true
   },
   "outputs": [],
   "source": []
  }
 ],
 "metadata": {
  "kernelspec": {
   "display_name": "Python 3",
   "language": "python",
   "name": "python3"
  },
  "language_info": {
   "codemirror_mode": {
    "name": "ipython",
    "version": 3
   },
   "file_extension": ".py",
   "mimetype": "text/x-python",
   "name": "python",
   "nbconvert_exporter": "python",
   "pygments_lexer": "ipython3",
   "version": "3.6.0"
  }
 },
 "nbformat": 4,
 "nbformat_minor": 2
}
